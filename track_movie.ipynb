{
 "cells": [
  {
   "cell_type": "code",
   "execution_count": 1,
   "metadata": {},
   "outputs": [],
   "source": [
    "import os\n",
    "import numpy as np\n",
    "from PIL import Image\n",
    "from datetime import datetime, timedelta\n",
    "from dotenv import load_dotenv\n",
    "import matplotlib.pyplot as plt\n",
    "from sqlalchemy import create_engine, text\n",
    "from geo_utils import table_dict, og_table_dict\n",
    "from rasterio import features\n",
    "from rasterio.transform import from_bounds\n",
    "import geopandas as gpd\n",
    "from copy import deepcopy\n",
    "from io import BytesIO\n",
    "from tqdm import tqdm\n",
    "import imageio.v2 as imageio"
   ]
  },
  {
   "cell_type": "code",
   "execution_count": 2,
   "metadata": {},
   "outputs": [],
   "source": [
    "load_dotenv('./conf.env')\n",
    "conn_str = os.getenv('CONN_STR')\n",
    "engine = create_engine(conn_str)\n",
    "conn = engine.connect()"
   ]
  },
  {
   "cell_type": "code",
   "execution_count": null,
   "metadata": {},
   "outputs": [],
   "source": [
    "real_query = '''\n",
    "WITH current_object AS (\n",
    "    SELECT id, shape\n",
    "    FROM public.g1\n",
    "    WHERE id = thisid\n",
    "),\n",
    "next_objects AS (\n",
    "    SELECT \n",
    "        id, \n",
    "        shape, \n",
    "        'g1' AS table_name \n",
    "    FROM public.g1\n",
    "    WHERE date_trunc('second', time) = 'timestamp'\n",
    "    UNION ALL\n",
    "    SELECT \n",
    "        id, \n",
    "        shape, \n",
    "        'g2' AS table_name \n",
    "    FROM public.g2\n",
    "    WHERE date_trunc('second', time) = 'timestamp'\n",
    "    UNION ALL\n",
    "    SELECT\n",
    "        id, \n",
    "        shape, \n",
    "        'g3' AS table_name \n",
    "    FROM public.g3\n",
    "    WHERE date_trunc('second', time) = 'timestamp'\n",
    "    UNION ALL\n",
    "    SELECT\n",
    "        id, \n",
    "        shape, \n",
    "        'g4' AS table_name \n",
    "    FROM public.g4\n",
    "    WHERE date_trunc('second', time) = 'timestamp'\n",
    ")\n",
    "SELECT\n",
    "    next_objects.id AS next_id,\n",
    "    ST_Area(ST_Intersection(current_object.shape, next_objects.shape)) /\n",
    "    ST_Area(ST_Union(current_object.shape, next_objects.shape)) AS iou,\n",
    "    next_objects.table_name\n",
    "FROM current_object, next_objects\n",
    "WHERE ST_Intersects(current_object.shape, next_objects.shape);\n",
    "'''"
   ]
  },
  {
   "cell_type": "code",
   "execution_count": 4,
   "metadata": {},
   "outputs": [],
   "source": [
    "start_time = datetime(2022, 5, 26, 17, 46, 29)\n",
    "interval = timedelta(seconds=6)\n",
    "width, height = 3454, 3454 "
   ]
  },
  {
   "cell_type": "code",
   "execution_count": 5,
   "metadata": {},
   "outputs": [
    {
     "data": {
      "text/plain": [
       "'2022-05-26 17:46:29'"
      ]
     },
     "execution_count": 5,
     "metadata": {},
     "output_type": "execute_result"
    }
   ],
   "source": [
    "str(start_time)"
   ]
  },
  {
   "cell_type": "markdown",
   "metadata": {},
   "source": [
    "# Visualize 4 different ones"
   ]
  },
  {
   "cell_type": "markdown",
   "metadata": {},
   "source": [
    "uniform = 2\n",
    "dot = 4\n",
    "lane = 5\n",
    "complex = 65"
   ]
  },
  {
   "cell_type": "code",
   "execution_count": 6,
   "metadata": {},
   "outputs": [],
   "source": [
    "probabilities = {\n",
    "    \"uniform_granule\": {\n",
    "        \"complex_granule\": 1,\n",
    "        \"uniform_granule\": 3,\n",
    "        \"granule_with_dot\": 1,\n",
    "        \"granule_with_lane\": 1,\n",
    "    },\n",
    "    \"complex_granule\": {\n",
    "        \"complex_granule\": 3,\n",
    "        \"uniform_granule\": 1,\n",
    "        \"granule_with_dot\": 1,\n",
    "        \"granule_with_lane\": 1,\n",
    "    },\n",
    "    \"granule_with_dot\": {\n",
    "        \"complex_granule\": 1,\n",
    "        \"uniform_granule\": 1,\n",
    "        \"granule_with_dot\": 3,\n",
    "        \"granule_with_lane\": 1,\n",
    "    },\n",
    "    \"granule_with_lane\": {\n",
    "        \"complex_granule\": 1,\n",
    "        \"uniform_granule\": 1,\n",
    "        \"granule_with_dot\": 1,\n",
    "        \"granule_with_lane\": 3,\n",
    "    },\n",
    "}"
   ]
  },
  {
   "cell_type": "code",
   "execution_count": 7,
   "metadata": {},
   "outputs": [],
   "source": [
    "frames = []"
   ]
  },
  {
   "cell_type": "markdown",
   "metadata": {},
   "source": [
    "# Uniform"
   ]
  },
  {
   "cell_type": "code",
   "execution_count": 8,
   "metadata": {},
   "outputs": [],
   "source": [
    "id, table = 2, 'uniform_granule'\n",
    "tables = list(probabilities.keys())\n",
    "raster_width = raster_height = 3454"
   ]
  },
  {
   "cell_type": "code",
   "execution_count": 9,
   "metadata": {},
   "outputs": [
    {
     "name": "stdout",
     "output_type": "stream",
     "text": [
      "id: 2\n"
     ]
    },
    {
     "data": {
      "image/png": "[encoded data removed]",
      "text/plain": [
       "<Figure size 500x500 with 1 Axes>"
      ]
     },
     "metadata": {},
     "output_type": "display_data"
    }
   ],
   "source": [
    "query = f\"SELECT id, shape FROM {table} WHERE id={id}\"\n",
    "gdf = gpd.read_postgis(query, engine, geom_col=\"shape\")\n",
    "print('id:', gdf.iloc[0].id)\n",
    "gdf = gdf.to_crs(\"EPSG:4326\")\n",
    "minx, miny, maxx, maxy = gdf.geometry.total_bounds\n",
    "polygon = gdf.geometry.iloc[0]\n",
    "transform = from_bounds(0, 0, raster_width, raster_height, raster_width, raster_height)\n",
    "raster = features.rasterize(\n",
    "    [(polygon, 1)],\n",
    "    out_shape=(raster_height, raster_width),\n",
    "    transform=transform,\n",
    "    fill=0,\n",
    "    dtype='uint8'\n",
    ")\n",
    "plt.figure(figsize=(5, 5))\n",
    "plt.imshow(raster, cmap=\"gray\")\n",
    "plt.show()\n",
    "frames.append(raster)"
   ]
  },
  {
   "cell_type": "code",
   "execution_count": 10,
   "metadata": {},
   "outputs": [
    {
     "name": "stdout",
     "output_type": "stream",
     "text": [
      "SELECT id, shape FROM uniform_granule WHERE id=5434\n",
      "SELECT id, shape FROM complex_granule WHERE id=23193\n",
      "SELECT id, shape FROM complex_granule WHERE id=34068\n",
      "SELECT id, shape FROM complex_granule WHERE id=29109\n",
      "SELECT id, shape FROM complex_granule WHERE id=10366\n",
      "SELECT id, shape FROM complex_granule WHERE id=22279\n",
      "SELECT id, shape FROM complex_granule WHERE id=26541\n",
      "SELECT id, shape FROM granule_with_lane WHERE id=3433\n",
      "SELECT id, shape FROM uniform_granule WHERE id=3628\n",
      "SELECT id, shape FROM uniform_granule WHERE id=2022\n",
      "SELECT id, shape FROM uniform_granule WHERE id=4678\n",
      "SELECT id, shape FROM uniform_granule WHERE id=2862\n",
      "SELECT id, shape FROM uniform_granule WHERE id=3163\n",
      "SELECT id, shape FROM uniform_granule WHERE id=405\n",
      "SELECT id, shape FROM uniform_granule WHERE id=1593\n",
      "SELECT id, shape FROM uniform_granule WHERE id=6032\n",
      "SELECT id, shape FROM uniform_granule WHERE id=3565\n",
      "SELECT id, shape FROM uniform_granule WHERE id=5156\n",
      "SELECT id, shape FROM granule_with_dot WHERE id=4325\n",
      "SELECT id, shape FROM granule_with_dot WHERE id=1460\n",
      "SELECT id, shape FROM granule_with_dot WHERE id=6689\n",
      "SELECT id, shape FROM granule_with_dot WHERE id=6399\n",
      "SELECT id, shape FROM granule_with_dot WHERE id=2375\n",
      "SELECT id, shape FROM granule_with_dot WHERE id=8369\n",
      "SELECT id, shape FROM granule_with_dot WHERE id=7796\n",
      "SELECT id, shape FROM granule_with_dot WHERE id=245\n",
      "SELECT id, shape FROM complex_granule WHERE id=34813\n",
      "SELECT id, shape FROM complex_granule WHERE id=27136\n",
      "SELECT id, shape FROM complex_granule WHERE id=33690\n",
      "SELECT id, shape FROM granule_with_dot WHERE id=1301\n",
      "SELECT id, shape FROM granule_with_dot WHERE id=5603\n",
      "SELECT id, shape FROM granule_with_dot WHERE id=5546\n",
      "SELECT id, shape FROM granule_with_dot WHERE id=5662\n",
      "SELECT id, shape FROM granule_with_dot WHERE id=4374\n",
      "SELECT id, shape FROM granule_with_dot WHERE id=6113\n",
      "SELECT id, shape FROM granule_with_dot WHERE id=2332\n"
     ]
    }
   ],
   "source": [
    "for i in range(199):\n",
    "    time = start_time + interval * (i + 1)\n",
    "    query = (\n",
    "        real_query.replace(\"thisid\", str(id))\n",
    "        .replace(\"timestamp\", str(time))\n",
    "        .replace(\"g1\", table)\n",
    "    )\n",
    "    new_tables = deepcopy(tables)\n",
    "    new_tables.remove(table)\n",
    "    for j in range(2, 5):\n",
    "        query = query.replace(f\"g{j}\", new_tables[j - 2])\n",
    "    results = conn.execute(text(query))\n",
    "    rows = results.fetchall()\n",
    "    if len(rows) == 0:\n",
    "        frames.append(np.zeros((3454, 3454), dtype=np.uint8))\n",
    "        continue\n",
    "    scores = np.array([r[1] * probabilities[table][r[2]] for r in rows])\n",
    "    id, _, table = rows[np.argmax(scores)]\n",
    "    query = f\"SELECT id, shape FROM {table} WHERE id={id}\"\n",
    "    print(query)\n",
    "    gdf = gpd.read_postgis(query, engine, geom_col=\"shape\")\n",
    "    gdf = gdf.to_crs(\"EPSG:4326\")\n",
    "    minx, miny, maxx, maxy = gdf.geometry.total_bounds\n",
    "    polygon = gdf.geometry.iloc[0]\n",
    "    transform = from_bounds(\n",
    "        0, 0, raster_width, raster_height, raster_width, raster_height\n",
    "    )\n",
    "    raster = features.rasterize(\n",
    "        [(polygon, 1)],  # Polygon with a value of 1\n",
    "        out_shape=(raster_height, raster_width),\n",
    "        transform=transform,\n",
    "        fill=0,  # Background value\n",
    "        dtype=\"uint8\",\n",
    "    )\n",
    "    frames.append(raster)\n",
    "    # plt.figure(figsize=(5, 5))\n",
    "    # plt.imshow(raster, cmap=\"gray\")\n",
    "    # plt.show()"
   ]
  },
  {
   "cell_type": "markdown",
   "metadata": {},
   "source": [
    "# Granule with dot"
   ]
  },
  {
   "cell_type": "code",
   "execution_count": 11,
   "metadata": {},
   "outputs": [],
   "source": [
    "id, table = 4, 'granule_with_dot'\n",
    "tables = list(probabilities.keys())\n",
    "raster_width = raster_height = 3454"
   ]
  },
  {
   "cell_type": "code",
   "execution_count": 12,
   "metadata": {},
   "outputs": [
    {
     "name": "stdout",
     "output_type": "stream",
     "text": [
      "id: 4\n"
     ]
    },
    {
     "data": {
      "image/png": "[encoded data removed]",
      "text/plain": [
       "<Figure size 500x500 with 1 Axes>"
      ]
     },
     "metadata": {},
     "output_type": "display_data"
    }
   ],
   "source": [
    "query = f\"SELECT id, shape FROM {table} WHERE id={id}\"\n",
    "gdf = gpd.read_postgis(query, engine, geom_col=\"shape\")\n",
    "print('id:', gdf.iloc[0].id)\n",
    "gdf = gdf.to_crs(\"EPSG:4326\")\n",
    "minx, miny, maxx, maxy = gdf.geometry.total_bounds\n",
    "polygon = gdf.geometry.iloc[0]\n",
    "transform = from_bounds(0, 0, raster_width, raster_height, raster_width, raster_height)\n",
    "raster = features.rasterize(\n",
    "    [(polygon, 1)],\n",
    "    out_shape=(raster_height, raster_width),\n",
    "    transform=transform,\n",
    "    fill=0,\n",
    "    dtype='uint8'\n",
    ")\n",
    "plt.figure(figsize=(5, 5))\n",
    "plt.imshow(raster, cmap=\"gray\")\n",
    "plt.show()\n",
    "frames[0][raster==1] = 2"
   ]
  },
  {
   "cell_type": "code",
   "execution_count": 13,
   "metadata": {},
   "outputs": [
    {
     "name": "stdout",
     "output_type": "stream",
     "text": [
      "SELECT id, shape FROM granule_with_dot WHERE id=8633\n",
      "SELECT id, shape FROM granule_with_dot WHERE id=6311\n",
      "SELECT id, shape FROM granule_with_dot WHERE id=9217\n",
      "SELECT id, shape FROM granule_with_dot WHERE id=7900\n",
      "SELECT id, shape FROM granule_with_dot WHERE id=2856\n",
      "SELECT id, shape FROM granule_with_dot WHERE id=6070\n",
      "SELECT id, shape FROM granule_with_dot WHERE id=7208\n",
      "SELECT id, shape FROM granule_with_dot WHERE id=5043\n",
      "SELECT id, shape FROM granule_with_dot WHERE id=5926\n",
      "SELECT id, shape FROM granule_with_dot WHERE id=3274\n",
      "SELECT id, shape FROM granule_with_dot WHERE id=7509\n",
      "SELECT id, shape FROM granule_with_dot WHERE id=4690\n",
      "SELECT id, shape FROM granule_with_dot WHERE id=5150\n",
      "SELECT id, shape FROM granule_with_dot WHERE id=691\n",
      "SELECT id, shape FROM granule_with_dot WHERE id=2545\n",
      "SELECT id, shape FROM granule_with_dot WHERE id=9549\n",
      "SELECT id, shape FROM granule_with_dot WHERE id=5828\n",
      "SELECT id, shape FROM granule_with_dot WHERE id=8225\n",
      "SELECT id, shape FROM complex_granule WHERE id=15933\n",
      "SELECT id, shape FROM complex_granule WHERE id=5395\n",
      "SELECT id, shape FROM complex_granule WHERE id=24684\n",
      "SELECT id, shape FROM complex_granule WHERE id=23566\n",
      "SELECT id, shape FROM complex_granule WHERE id=8678\n",
      "SELECT id, shape FROM complex_granule WHERE id=30994\n",
      "SELECT id, shape FROM complex_granule WHERE id=28802\n",
      "SELECT id, shape FROM complex_granule WHERE id=898\n",
      "SELECT id, shape FROM complex_granule WHERE id=34838\n",
      "SELECT id, shape FROM complex_granule WHERE id=27154\n",
      "SELECT id, shape FROM complex_granule WHERE id=33710\n",
      "SELECT id, shape FROM complex_granule WHERE id=4816\n",
      "SELECT id, shape FROM complex_granule WHERE id=20655\n",
      "SELECT id, shape FROM complex_granule WHERE id=20475\n",
      "SELECT id, shape FROM complex_granule WHERE id=20845\n",
      "SELECT id, shape FROM complex_granule WHERE id=16120\n",
      "SELECT id, shape FROM complex_granule WHERE id=22492\n",
      "SELECT id, shape FROM complex_granule WHERE id=8531\n"
     ]
    }
   ],
   "source": [
    "for i in range(199):\n",
    "    time = start_time + interval * (i + 1)\n",
    "    query = (\n",
    "        real_query.replace(\"thisid\", str(id))\n",
    "        .replace(\"timestamp\", str(time))\n",
    "        .replace(\"g1\", table)\n",
    "    )\n",
    "    new_tables = deepcopy(tables)\n",
    "    new_tables.remove(table)\n",
    "    for j in range(2, 5):\n",
    "        query = query.replace(f\"g{j}\", new_tables[j - 2])\n",
    "    results = conn.execute(text(query))\n",
    "    rows = results.fetchall()\n",
    "    if len(rows) == 0:\n",
    "        continue\n",
    "    scores = np.array([r[1] * probabilities[table][r[2]] for r in rows])\n",
    "    id, _, table = rows[np.argmax(scores)]\n",
    "    query = f\"SELECT id, shape FROM {table} WHERE id={id}\"\n",
    "    print(query)\n",
    "    gdf = gpd.read_postgis(query, engine, geom_col=\"shape\")\n",
    "    gdf = gdf.to_crs(\"EPSG:4326\")\n",
    "    minx, miny, maxx, maxy = gdf.geometry.total_bounds\n",
    "    polygon = gdf.geometry.iloc[0]\n",
    "    transform = from_bounds(\n",
    "        0, 0, raster_width, raster_height, raster_width, raster_height\n",
    "    )\n",
    "    raster = features.rasterize(\n",
    "        [(polygon, 1)],  # Polygon with a value of 1\n",
    "        out_shape=(raster_height, raster_width),\n",
    "        transform=transform,\n",
    "        fill=0,  # Background value\n",
    "        dtype=\"uint8\",\n",
    "    )\n",
    "    frames[i+1][raster==1] = 2\n",
    "    # plt.figure(figsize=(5, 5))\n",
    "    # plt.imshow(raster, cmap=\"gray\")\n",
    "    # plt.show()"
   ]
  },
  {
   "cell_type": "markdown",
   "metadata": {},
   "source": [
    "# Granule with lane"
   ]
  },
  {
   "cell_type": "code",
   "execution_count": 14,
   "metadata": {},
   "outputs": [],
   "source": [
    "id, table = 5, 'granule_with_lane'\n",
    "tables = list(probabilities.keys())\n",
    "raster_width = raster_height = 3454"
   ]
  },
  {
   "cell_type": "code",
   "execution_count": 15,
   "metadata": {},
   "outputs": [
    {
     "name": "stdout",
     "output_type": "stream",
     "text": [
      "id: 5\n"
     ]
    },
    {
     "data": {
      "image/png": "[encoded data removed]",
      "text/plain": [
       "<Figure size 500x500 with 1 Axes>"
      ]
     },
     "metadata": {},
     "output_type": "display_data"
    }
   ],
   "source": [
    "query = f\"SELECT id, shape FROM {table} WHERE id={id}\"\n",
    "gdf = gpd.read_postgis(query, engine, geom_col=\"shape\")\n",
    "print('id:', gdf.iloc[0].id)\n",
    "gdf = gdf.to_crs(\"EPSG:4326\")\n",
    "minx, miny, maxx, maxy = gdf.geometry.total_bounds\n",
    "polygon = gdf.geometry.iloc[0]\n",
    "transform = from_bounds(0, 0, raster_width, raster_height, raster_width, raster_height)\n",
    "raster = features.rasterize(\n",
    "    [(polygon, 1)],\n",
    "    out_shape=(raster_height, raster_width),\n",
    "    transform=transform,\n",
    "    fill=0,\n",
    "    dtype='uint8'\n",
    ")\n",
    "plt.figure(figsize=(5, 5))\n",
    "plt.imshow(raster, cmap=\"gray\")\n",
    "plt.show()\n",
    "frames[0][raster==1] = 3"
   ]
  },
  {
   "cell_type": "code",
   "execution_count": 16,
   "metadata": {},
   "outputs": [
    {
     "name": "stdout",
     "output_type": "stream",
     "text": [
      "SELECT id, shape FROM granule_with_lane WHERE id=6043\n",
      "SELECT id, shape FROM granule_with_lane WHERE id=4327\n",
      "SELECT id, shape FROM granule_with_lane WHERE id=6443\n",
      "SELECT id, shape FROM granule_with_lane WHERE id=5513\n",
      "SELECT id, shape FROM complex_granule WHERE id=10378\n",
      "SELECT id, shape FROM complex_granule WHERE id=22290\n",
      "SELECT id, shape FROM complex_granule WHERE id=26555\n",
      "SELECT id, shape FROM complex_granule WHERE id=18545\n",
      "SELECT id, shape FROM complex_granule WHERE id=21746\n",
      "SELECT id, shape FROM complex_granule WHERE id=11887\n",
      "SELECT id, shape FROM complex_granule WHERE id=27703\n",
      "SELECT id, shape FROM complex_granule WHERE id=17227\n",
      "SELECT id, shape FROM complex_granule WHERE id=18890\n",
      "SELECT id, shape FROM complex_granule WHERE id=2511\n",
      "SELECT id, shape FROM complex_granule WHERE id=9209\n",
      "SELECT id, shape FROM complex_granule WHERE id=35360\n",
      "SELECT id, shape FROM complex_granule WHERE id=21361\n",
      "SELECT id, shape FROM complex_granule WHERE id=30447\n",
      "SELECT id, shape FROM complex_granule WHERE id=15918\n",
      "SELECT id, shape FROM complex_granule WHERE id=5380\n",
      "SELECT id, shape FROM complex_granule WHERE id=24673\n",
      "SELECT id, shape FROM complex_granule WHERE id=23555\n",
      "SELECT id, shape FROM complex_granule WHERE id=8660\n",
      "SELECT id, shape FROM complex_granule WHERE id=30977\n",
      "SELECT id, shape FROM complex_granule WHERE id=28784\n",
      "SELECT id, shape FROM complex_granule WHERE id=880\n",
      "SELECT id, shape FROM complex_granule WHERE id=34820\n",
      "SELECT id, shape FROM complex_granule WHERE id=27143\n",
      "SELECT id, shape FROM complex_granule WHERE id=33698\n",
      "SELECT id, shape FROM complex_granule WHERE id=4804\n",
      "SELECT id, shape FROM complex_granule WHERE id=20639\n",
      "SELECT id, shape FROM complex_granule WHERE id=20455\n",
      "SELECT id, shape FROM complex_granule WHERE id=20827\n",
      "SELECT id, shape FROM complex_granule WHERE id=16100\n",
      "SELECT id, shape FROM complex_granule WHERE id=22474\n",
      "SELECT id, shape FROM complex_granule WHERE id=8518\n"
     ]
    }
   ],
   "source": [
    "for i in range(199):\n",
    "    time = start_time + interval * (i + 1)\n",
    "    query = (\n",
    "        real_query.replace(\"thisid\", str(id))\n",
    "        .replace(\"timestamp\", str(time))\n",
    "        .replace(\"g1\", table)\n",
    "    )\n",
    "    new_tables = deepcopy(tables)\n",
    "    new_tables.remove(table)\n",
    "    for j in range(2, 5):\n",
    "        query = query.replace(f\"g{j}\", new_tables[j - 2])\n",
    "    results = conn.execute(text(query))\n",
    "    rows = results.fetchall()\n",
    "    if len(rows) == 0:\n",
    "        continue\n",
    "    scores = np.array([r[1] * probabilities[table][r[2]] for r in rows])\n",
    "    id, _, table = rows[np.argmax(scores)]\n",
    "    query = f\"SELECT id, shape FROM {table} WHERE id={id}\"\n",
    "    print(query)\n",
    "    gdf = gpd.read_postgis(query, engine, geom_col=\"shape\")\n",
    "    gdf = gdf.to_crs(\"EPSG:4326\")\n",
    "    minx, miny, maxx, maxy = gdf.geometry.total_bounds\n",
    "    polygon = gdf.geometry.iloc[0]\n",
    "    transform = from_bounds(\n",
    "        0, 0, raster_width, raster_height, raster_width, raster_height\n",
    "    )\n",
    "    raster = features.rasterize(\n",
    "        [(polygon, 1)],  # Polygon with a value of 1\n",
    "        out_shape=(raster_height, raster_width),\n",
    "        transform=transform,\n",
    "        fill=0,  # Background value\n",
    "        dtype=\"uint8\",\n",
    "    )\n",
    "    frames[i+1][raster==1] = 3\n",
    "    # plt.figure(figsize=(5, 5))\n",
    "    # plt.imshow(raster, cmap=\"gray\")\n",
    "    # plt.show()"
   ]
  },
  {
   "cell_type": "markdown",
   "metadata": {},
   "source": [
    "# Complex"
   ]
  },
  {
   "cell_type": "code",
   "execution_count": 17,
   "metadata": {},
   "outputs": [],
   "source": [
    "id, table = 65, 'complex_granule'\n",
    "tables = list(probabilities.keys())\n",
    "raster_width = raster_height = 3454"
   ]
  },
  {
   "cell_type": "code",
   "execution_count": 18,
   "metadata": {},
   "outputs": [
    {
     "name": "stdout",
     "output_type": "stream",
     "text": [
      "id: 65\n"
     ]
    },
    {
     "data": {
      "image/png": "[encoded data removed]",
      "text/plain": [
       "<Figure size 500x500 with 1 Axes>"
      ]
     },
     "metadata": {},
     "output_type": "display_data"
    }
   ],
   "source": [
    "query = f\"SELECT id, shape FROM {table} WHERE id={id}\"\n",
    "gdf = gpd.read_postgis(query, engine, geom_col=\"shape\")\n",
    "print('id:', gdf.iloc[0].id)\n",
    "gdf = gdf.to_crs(\"EPSG:4326\")\n",
    "minx, miny, maxx, maxy = gdf.geometry.total_bounds\n",
    "polygon = gdf.geometry.iloc[0]\n",
    "transform = from_bounds(0, 0, raster_width, raster_height, raster_width, raster_height)\n",
    "raster = features.rasterize(\n",
    "    [(polygon, 1)],\n",
    "    out_shape=(raster_height, raster_width),\n",
    "    transform=transform,\n",
    "    fill=0,\n",
    "    dtype='uint8'\n",
    ")\n",
    "plt.figure(figsize=(5, 5))\n",
    "plt.imshow(raster, cmap=\"gray\")\n",
    "plt.show()\n",
    "frames[0][raster==1] = 4"
   ]
  },
  {
   "cell_type": "code",
   "execution_count": 19,
   "metadata": {},
   "outputs": [
    {
     "name": "stdout",
     "output_type": "stream",
     "text": [
      "SELECT id, shape FROM complex_granule WHERE id=31921\n",
      "SELECT id, shape FROM complex_granule WHERE id=23275\n",
      "SELECT id, shape FROM complex_granule WHERE id=34156\n",
      "SELECT id, shape FROM complex_granule WHERE id=29212\n",
      "SELECT id, shape FROM complex_granule WHERE id=10474\n",
      "SELECT id, shape FROM complex_granule WHERE id=22370\n",
      "SELECT id, shape FROM complex_granule WHERE id=26641\n",
      "SELECT id, shape FROM complex_granule WHERE id=18622\n",
      "SELECT id, shape FROM complex_granule WHERE id=21846\n",
      "SELECT id, shape FROM complex_granule WHERE id=11992\n",
      "SELECT id, shape FROM complex_granule WHERE id=27807\n",
      "SELECT id, shape FROM complex_granule WHERE id=17331\n",
      "SELECT id, shape FROM complex_granule WHERE id=18997\n",
      "SELECT id, shape FROM complex_granule WHERE id=2607\n",
      "SELECT id, shape FROM complex_granule WHERE id=9311\n",
      "SELECT id, shape FROM complex_granule WHERE id=35457\n",
      "SELECT id, shape FROM complex_granule WHERE id=21456\n",
      "SELECT id, shape FROM complex_granule WHERE id=30545\n",
      "SELECT id, shape FROM granule_with_dot WHERE id=4348\n",
      "SELECT id, shape FROM granule_with_dot WHERE id=1493\n",
      "SELECT id, shape FROM granule_with_dot WHERE id=6711\n",
      "SELECT id, shape FROM granule_with_dot WHERE id=6425\n",
      "SELECT id, shape FROM granule_with_dot WHERE id=2403\n",
      "SELECT id, shape FROM granule_with_dot WHERE id=8399\n",
      "SELECT id, shape FROM granule_with_dot WHERE id=7825\n",
      "SELECT id, shape FROM granule_with_dot WHERE id=273\n",
      "SELECT id, shape FROM granule_with_dot WHERE id=9434\n",
      "SELECT id, shape FROM granule_with_dot WHERE id=7374\n",
      "SELECT id, shape FROM granule_with_dot WHERE id=9143\n",
      "SELECT id, shape FROM granule_with_dot WHERE id=1329\n",
      "SELECT id, shape FROM granule_with_dot WHERE id=5632\n",
      "SELECT id, shape FROM granule_with_dot WHERE id=5576\n",
      "SELECT id, shape FROM granule_with_dot WHERE id=5692\n",
      "SELECT id, shape FROM granule_with_dot WHERE id=4402\n",
      "SELECT id, shape FROM complex_granule WHERE id=22553\n",
      "SELECT id, shape FROM complex_granule WHERE id=8595\n"
     ]
    }
   ],
   "source": [
    "for i in range(199):\n",
    "    time = start_time + interval * (i + 1)\n",
    "    query = (\n",
    "        real_query.replace(\"thisid\", str(id))\n",
    "        .replace(\"timestamp\", str(time))\n",
    "        .replace(\"g1\", table)\n",
    "    )\n",
    "    new_tables = deepcopy(tables)\n",
    "    new_tables.remove(table)\n",
    "    for j in range(2, 5):\n",
    "        query = query.replace(f\"g{j}\", new_tables[j - 2])\n",
    "    results = conn.execute(text(query))\n",
    "    rows = results.fetchall()\n",
    "    if len(rows) == 0:\n",
    "        continue\n",
    "    scores = np.array([r[1] * probabilities[table][r[2]] for r in rows])\n",
    "    id, _, table = rows[np.argmax(scores)]\n",
    "    query = f\"SELECT id, shape FROM {table} WHERE id={id}\"\n",
    "    print(query)\n",
    "    gdf = gpd.read_postgis(query, engine, geom_col=\"shape\")\n",
    "    gdf = gdf.to_crs(\"EPSG:4326\")\n",
    "    minx, miny, maxx, maxy = gdf.geometry.total_bounds\n",
    "    polygon = gdf.geometry.iloc[0]\n",
    "    transform = from_bounds(\n",
    "        0, 0, raster_width, raster_height, raster_width, raster_height\n",
    "    )\n",
    "    raster = features.rasterize(\n",
    "        [(polygon, 1)],  # Polygon with a value of 1\n",
    "        out_shape=(raster_height, raster_width),\n",
    "        transform=transform,\n",
    "        fill=0,  # Background value\n",
    "        dtype=\"uint8\",\n",
    "    )\n",
    "    frames[i+1][raster==1] = 4\n",
    "    # plt.figure(figsize=(5, 5))\n",
    "    # plt.imshow(raster, cmap=\"gray\")\n",
    "    # plt.show()"
   ]
  },
  {
   "cell_type": "markdown",
   "metadata": {},
   "source": [
    "# Uniform"
   ]
  },
  {
   "cell_type": "code",
   "execution_count": 20,
   "metadata": {},
   "outputs": [
    {
     "name": "stdout",
     "output_type": "stream",
     "text": [
      "id: 3\n"
     ]
    },
    {
     "data": {
      "image/png": "[encoded data removed]",
      "text/plain": [
       "<Figure size 500x500 with 1 Axes>"
      ]
     },
     "metadata": {},
     "output_type": "display_data"
    }
   ],
   "source": [
    "id, table = 3, 'uniform_granule'\n",
    "tables = list(probabilities.keys())\n",
    "raster_width = raster_height = 3454\n",
    "\n",
    "query = f\"SELECT id, shape FROM {table} WHERE id={id}\"\n",
    "gdf = gpd.read_postgis(query, engine, geom_col=\"shape\")\n",
    "print('id:', gdf.iloc[0].id)\n",
    "gdf = gdf.to_crs(\"EPSG:4326\")\n",
    "minx, miny, maxx, maxy = gdf.geometry.total_bounds\n",
    "polygon = gdf.geometry.iloc[0]\n",
    "transform = from_bounds(0, 0, raster_width, raster_height, raster_width, raster_height)\n",
    "raster = features.rasterize(\n",
    "    [(polygon, 1)],\n",
    "    out_shape=(raster_height, raster_width),\n",
    "    transform=transform,\n",
    "    fill=0,\n",
    "    dtype='uint8'\n",
    ")\n",
    "plt.figure(figsize=(5, 5))\n",
    "plt.imshow(raster, cmap=\"gray\")\n",
    "plt.show()\n",
    "frames[0][raster==1] = 5"
   ]
  },
  {
   "cell_type": "code",
   "execution_count": 21,
   "metadata": {},
   "outputs": [
    {
     "name": "stdout",
     "output_type": "stream",
     "text": [
      "SELECT id, shape FROM complex_granule WHERE id=31886\n",
      "SELECT id, shape FROM complex_granule WHERE id=23230\n",
      "SELECT id, shape FROM complex_granule WHERE id=34114\n",
      "SELECT id, shape FROM complex_granule WHERE id=29141\n",
      "SELECT id, shape FROM complex_granule WHERE id=10400\n",
      "SELECT id, shape FROM complex_granule WHERE id=22310\n",
      "SELECT id, shape FROM complex_granule WHERE id=26567\n",
      "SELECT id, shape FROM granule_with_dot WHERE id=5041\n",
      "SELECT id, shape FROM complex_granule WHERE id=21753\n",
      "SELECT id, shape FROM complex_granule WHERE id=11899\n",
      "SELECT id, shape FROM complex_granule WHERE id=27717\n",
      "SELECT id, shape FROM complex_granule WHERE id=17240\n",
      "SELECT id, shape FROM complex_granule WHERE id=18892\n",
      "SELECT id, shape FROM complex_granule WHERE id=2513\n",
      "SELECT id, shape FROM complex_granule WHERE id=9213\n",
      "SELECT id, shape FROM complex_granule WHERE id=35364\n",
      "SELECT id, shape FROM complex_granule WHERE id=21370\n",
      "SELECT id, shape FROM complex_granule WHERE id=30461\n",
      "SELECT id, shape FROM complex_granule WHERE id=15926\n",
      "SELECT id, shape FROM complex_granule WHERE id=5388\n",
      "SELECT id, shape FROM complex_granule WHERE id=24685\n",
      "SELECT id, shape FROM complex_granule WHERE id=23567\n",
      "SELECT id, shape FROM complex_granule WHERE id=8668\n",
      "SELECT id, shape FROM complex_granule WHERE id=30985\n",
      "SELECT id, shape FROM complex_granule WHERE id=28797\n",
      "SELECT id, shape FROM complex_granule WHERE id=893\n",
      "SELECT id, shape FROM complex_granule WHERE id=34834\n",
      "SELECT id, shape FROM complex_granule WHERE id=27157\n",
      "SELECT id, shape FROM complex_granule WHERE id=33712\n",
      "SELECT id, shape FROM complex_granule WHERE id=4808\n",
      "SELECT id, shape FROM complex_granule WHERE id=20647\n",
      "SELECT id, shape FROM complex_granule WHERE id=20462\n",
      "SELECT id, shape FROM complex_granule WHERE id=20831\n",
      "SELECT id, shape FROM complex_granule WHERE id=16102\n",
      "SELECT id, shape FROM complex_granule WHERE id=22475\n",
      "SELECT id, shape FROM complex_granule WHERE id=8520\n"
     ]
    }
   ],
   "source": [
    "for i in range(199):\n",
    "    time = start_time + interval * (i + 1)\n",
    "    query = (\n",
    "        real_query.replace(\"thisid\", str(id))\n",
    "        .replace(\"timestamp\", str(time))\n",
    "        .replace(\"g1\", table)\n",
    "    )\n",
    "    new_tables = deepcopy(tables)\n",
    "    new_tables.remove(table)\n",
    "    for j in range(2, 5):\n",
    "        query = query.replace(f\"g{j}\", new_tables[j - 2])\n",
    "    results = conn.execute(text(query))\n",
    "    rows = results.fetchall()\n",
    "    if len(rows) == 0:\n",
    "        continue\n",
    "    scores = np.array([r[1] * probabilities[table][r[2]] for r in rows])\n",
    "    id, _, table = rows[np.argmax(scores)]\n",
    "    query = f\"SELECT id, shape FROM {table} WHERE id={id}\"\n",
    "    print(query)\n",
    "    gdf = gpd.read_postgis(query, engine, geom_col=\"shape\")\n",
    "    gdf = gdf.to_crs(\"EPSG:4326\")\n",
    "    minx, miny, maxx, maxy = gdf.geometry.total_bounds\n",
    "    polygon = gdf.geometry.iloc[0]\n",
    "    transform = from_bounds(\n",
    "        0, 0, raster_width, raster_height, raster_width, raster_height\n",
    "    )\n",
    "    raster = features.rasterize(\n",
    "        [(polygon, 1)],  # Polygon with a value of 1\n",
    "        out_shape=(raster_height, raster_width),\n",
    "        transform=transform,\n",
    "        fill=0,  # Background value\n",
    "        dtype=\"uint8\",\n",
    "    )\n",
    "    frames[i+1][raster==1] = 5"
   ]
  },
  {
   "cell_type": "markdown",
   "metadata": {},
   "source": [
    "# Granule with dot"
   ]
  },
  {
   "cell_type": "code",
   "execution_count": 22,
   "metadata": {},
   "outputs": [
    {
     "name": "stdout",
     "output_type": "stream",
     "text": [
      "id: 5\n"
     ]
    },
    {
     "data": {
      "image/png": "[encoded data removed]",
      "text/plain": [
       "<Figure size 500x500 with 1 Axes>"
      ]
     },
     "metadata": {},
     "output_type": "display_data"
    }
   ],
   "source": [
    "id, table = 5, 'granule_with_dot'\n",
    "tables = list(probabilities.keys())\n",
    "raster_width = raster_height = 3454\n",
    "\n",
    "query = f\"SELECT id, shape FROM {table} WHERE id={id}\"\n",
    "gdf = gpd.read_postgis(query, engine, geom_col=\"shape\")\n",
    "print('id:', gdf.iloc[0].id)\n",
    "gdf = gdf.to_crs(\"EPSG:4326\")\n",
    "minx, miny, maxx, maxy = gdf.geometry.total_bounds\n",
    "polygon = gdf.geometry.iloc[0]\n",
    "transform = from_bounds(0, 0, raster_width, raster_height, raster_width, raster_height)\n",
    "raster = features.rasterize(\n",
    "    [(polygon, 1)],\n",
    "    out_shape=(raster_height, raster_width),\n",
    "    transform=transform,\n",
    "    fill=0,\n",
    "    dtype='uint8'\n",
    ")\n",
    "plt.figure(figsize=(5, 5))\n",
    "plt.imshow(raster, cmap=\"gray\")\n",
    "plt.show()\n",
    "frames[0][raster==1] = 6"
   ]
  },
  {
   "cell_type": "code",
   "execution_count": 23,
   "metadata": {},
   "outputs": [
    {
     "name": "stdout",
     "output_type": "stream",
     "text": [
      "SELECT id, shape FROM granule_with_dot WHERE id=8638\n",
      "SELECT id, shape FROM granule_with_dot WHERE id=6314\n",
      "SELECT id, shape FROM granule_with_dot WHERE id=9220\n",
      "SELECT id, shape FROM granule_with_dot WHERE id=7903\n",
      "SELECT id, shape FROM granule_with_dot WHERE id=2859\n",
      "SELECT id, shape FROM granule_with_dot WHERE id=6073\n",
      "SELECT id, shape FROM granule_with_dot WHERE id=7211\n",
      "SELECT id, shape FROM complex_granule WHERE id=18569\n",
      "SELECT id, shape FROM complex_granule WHERE id=21767\n",
      "SELECT id, shape FROM complex_granule WHERE id=11906\n",
      "SELECT id, shape FROM complex_granule WHERE id=27723\n",
      "SELECT id, shape FROM complex_granule WHERE id=17248\n",
      "SELECT id, shape FROM complex_granule WHERE id=18907\n",
      "SELECT id, shape FROM complex_granule WHERE id=2529\n",
      "SELECT id, shape FROM complex_granule WHERE id=9227\n",
      "SELECT id, shape FROM complex_granule WHERE id=35379\n",
      "SELECT id, shape FROM complex_granule WHERE id=21382\n",
      "SELECT id, shape FROM complex_granule WHERE id=30467\n",
      "SELECT id, shape FROM complex_granule WHERE id=15924\n",
      "SELECT id, shape FROM complex_granule WHERE id=5387\n",
      "SELECT id, shape FROM complex_granule WHERE id=24680\n",
      "SELECT id, shape FROM complex_granule WHERE id=23564\n",
      "SELECT id, shape FROM complex_granule WHERE id=8666\n",
      "SELECT id, shape FROM complex_granule WHERE id=30983\n",
      "SELECT id, shape FROM complex_granule WHERE id=28792\n",
      "SELECT id, shape FROM complex_granule WHERE id=887\n",
      "SELECT id, shape FROM complex_granule WHERE id=34829\n",
      "SELECT id, shape FROM complex_granule WHERE id=27150\n",
      "SELECT id, shape FROM complex_granule WHERE id=33706\n",
      "SELECT id, shape FROM granule_with_lane WHERE id=947\n",
      "SELECT id, shape FROM granule_with_lane WHERE id=3830\n",
      "SELECT id, shape FROM complex_granule WHERE id=20457\n",
      "SELECT id, shape FROM complex_granule WHERE id=20826\n",
      "SELECT id, shape FROM complex_granule WHERE id=16090\n",
      "SELECT id, shape FROM complex_granule WHERE id=22464\n",
      "SELECT id, shape FROM complex_granule WHERE id=8510\n"
     ]
    }
   ],
   "source": [
    "for i in range(199):\n",
    "    time = start_time + interval * (i + 1)\n",
    "    query = (\n",
    "        real_query.replace(\"thisid\", str(id))\n",
    "        .replace(\"timestamp\", str(time))\n",
    "        .replace(\"g1\", table)\n",
    "    )\n",
    "    new_tables = deepcopy(tables)\n",
    "    new_tables.remove(table)\n",
    "    for j in range(2, 5):\n",
    "        query = query.replace(f\"g{j}\", new_tables[j - 2])\n",
    "    results = conn.execute(text(query))\n",
    "    rows = results.fetchall()\n",
    "    if len(rows) == 0:\n",
    "        continue\n",
    "    scores = np.array([r[1] * probabilities[table][r[2]] for r in rows])\n",
    "    id, _, table = rows[np.argmax(scores)]\n",
    "    query = f\"SELECT id, shape FROM {table} WHERE id={id}\"\n",
    "    print(query)\n",
    "    gdf = gpd.read_postgis(query, engine, geom_col=\"shape\")\n",
    "    gdf = gdf.to_crs(\"EPSG:4326\")\n",
    "    minx, miny, maxx, maxy = gdf.geometry.total_bounds\n",
    "    polygon = gdf.geometry.iloc[0]\n",
    "    transform = from_bounds(\n",
    "        0, 0, raster_width, raster_height, raster_width, raster_height\n",
    "    )\n",
    "    raster = features.rasterize(\n",
    "        [(polygon, 1)],  # Polygon with a value of 1\n",
    "        out_shape=(raster_height, raster_width),\n",
    "        transform=transform,\n",
    "        fill=0,  # Background value\n",
    "        dtype=\"uint8\",\n",
    "    )\n",
    "    frames[i+1][raster==1] = 6"
   ]
  },
  {
   "cell_type": "markdown",
   "metadata": {},
   "source": [
    "# Granule with lane"
   ]
  },
  {
   "cell_type": "code",
   "execution_count": 24,
   "metadata": {},
   "outputs": [
    {
     "name": "stdout",
     "output_type": "stream",
     "text": [
      "id: 7\n"
     ]
    },
    {
     "data": {
      "image/png": "[encoded data removed]",
      "text/plain": [
       "<Figure size 500x500 with 1 Axes>"
      ]
     },
     "metadata": {},
     "output_type": "display_data"
    }
   ],
   "source": [
    "id, table = 7, 'granule_with_lane'\n",
    "tables = list(probabilities.keys())\n",
    "raster_width = raster_height = 3454\n",
    "\n",
    "query = f\"SELECT id, shape FROM {table} WHERE id={id}\"\n",
    "gdf = gpd.read_postgis(query, engine, geom_col=\"shape\")\n",
    "print('id:', gdf.iloc[0].id)\n",
    "gdf = gdf.to_crs(\"EPSG:4326\")\n",
    "minx, miny, maxx, maxy = gdf.geometry.total_bounds\n",
    "polygon = gdf.geometry.iloc[0]\n",
    "transform = from_bounds(0, 0, raster_width, raster_height, raster_width, raster_height)\n",
    "raster = features.rasterize(\n",
    "    [(polygon, 1)],\n",
    "    out_shape=(raster_height, raster_width),\n",
    "    transform=transform,\n",
    "    fill=0,\n",
    "    dtype='uint8'\n",
    ")\n",
    "plt.figure(figsize=(5, 5))\n",
    "plt.imshow(raster, cmap=\"gray\")\n",
    "plt.show()\n",
    "frames[0][raster==1] = 7"
   ]
  },
  {
   "cell_type": "code",
   "execution_count": 25,
   "metadata": {},
   "outputs": [
    {
     "name": "stdout",
     "output_type": "stream",
     "text": [
      "SELECT id, shape FROM granule_with_lane WHERE id=6044\n",
      "SELECT id, shape FROM granule_with_lane WHERE id=4326\n",
      "SELECT id, shape FROM granule_with_lane WHERE id=6442\n",
      "SELECT id, shape FROM complex_granule WHERE id=29123\n",
      "SELECT id, shape FROM complex_granule WHERE id=10381\n",
      "SELECT id, shape FROM complex_granule WHERE id=22294\n",
      "SELECT id, shape FROM complex_granule WHERE id=26569\n",
      "SELECT id, shape FROM granule_with_lane WHERE id=3436\n",
      "SELECT id, shape FROM granule_with_lane WHERE id=4058\n",
      "SELECT id, shape FROM granule_with_lane WHERE id=2200\n",
      "SELECT id, shape FROM granule_with_lane WHERE id=5195\n",
      "SELECT id, shape FROM granule_with_lane WHERE id=3186\n",
      "SELECT id, shape FROM granule_with_lane WHERE id=3498\n",
      "SELECT id, shape FROM granule_with_lane WHERE id=497\n",
      "SELECT id, shape FROM granule_with_lane WHERE id=1753\n",
      "SELECT id, shape FROM granule_with_lane WHERE id=6717\n",
      "SELECT id, shape FROM granule_with_lane WHERE id=3991\n",
      "SELECT id, shape FROM granule_with_lane WHERE id=5752\n",
      "SELECT id, shape FROM uniform_granule WHERE id=2675\n",
      "SELECT id, shape FROM uniform_granule WHERE id=942\n",
      "SELECT id, shape FROM uniform_granule WHERE id=4169\n",
      "SELECT id, shape FROM uniform_granule WHERE id=3963\n",
      "SELECT id, shape FROM uniform_granule WHERE id=1500\n",
      "SELECT id, shape FROM uniform_granule WHERE id=5246\n",
      "SELECT id, shape FROM uniform_granule WHERE id=4884\n",
      "SELECT id, shape FROM uniform_granule WHERE id=161\n",
      "SELECT id, shape FROM uniform_granule WHERE id=5925\n",
      "SELECT id, shape FROM uniform_granule WHERE id=4573\n",
      "SELECT id, shape FROM uniform_granule WHERE id=5737\n",
      "SELECT id, shape FROM granule_with_lane WHERE id=948\n",
      "SELECT id, shape FROM granule_with_lane WHERE id=3831\n",
      "SELECT id, shape FROM granule_with_lane WHERE id=3794\n",
      "SELECT id, shape FROM granule_with_lane WHERE id=3867\n",
      "SELECT id, shape FROM granule_with_lane WHERE id=2970\n",
      "SELECT id, shape FROM granule_with_lane WHERE id=4177\n",
      "SELECT id, shape FROM granule_with_lane WHERE id=1618\n"
     ]
    }
   ],
   "source": [
    "for i in range(199):\n",
    "    time = start_time + interval * (i + 1)\n",
    "    query = (\n",
    "        real_query.replace(\"thisid\", str(id))\n",
    "        .replace(\"timestamp\", str(time))\n",
    "        .replace(\"g1\", table)\n",
    "    )\n",
    "    new_tables = deepcopy(tables)\n",
    "    new_tables.remove(table)\n",
    "    for j in range(2, 5):\n",
    "        query = query.replace(f\"g{j}\", new_tables[j - 2])\n",
    "    results = conn.execute(text(query))\n",
    "    rows = results.fetchall()\n",
    "    if len(rows) == 0:\n",
    "        continue\n",
    "    scores = np.array([r[1] * probabilities[table][r[2]] for r in rows])\n",
    "    id, _, table = rows[np.argmax(scores)]\n",
    "    query = f\"SELECT id, shape FROM {table} WHERE id={id}\"\n",
    "    print(query)\n",
    "    gdf = gpd.read_postgis(query, engine, geom_col=\"shape\")\n",
    "    gdf = gdf.to_crs(\"EPSG:4326\")\n",
    "    minx, miny, maxx, maxy = gdf.geometry.total_bounds\n",
    "    polygon = gdf.geometry.iloc[0]\n",
    "    transform = from_bounds(\n",
    "        0, 0, raster_width, raster_height, raster_width, raster_height\n",
    "    )\n",
    "    raster = features.rasterize(\n",
    "        [(polygon, 1)],  # Polygon with a value of 1\n",
    "        out_shape=(raster_height, raster_width),\n",
    "        transform=transform,\n",
    "        fill=0,  # Background value\n",
    "        dtype=\"uint8\",\n",
    "    )\n",
    "    frames[i+1][raster==1] = 7"
   ]
  },
  {
   "cell_type": "markdown",
   "metadata": {},
   "source": [
    "# Complex"
   ]
  },
  {
   "cell_type": "code",
   "execution_count": 26,
   "metadata": {},
   "outputs": [
    {
     "name": "stdout",
     "output_type": "stream",
     "text": [
      "id: 66\n"
     ]
    },
    {
     "data": {
      "image/png": "[encoded data removed]",
      "text/plain": [
       "<Figure size 500x500 with 1 Axes>"
      ]
     },
     "metadata": {},
     "output_type": "display_data"
    }
   ],
   "source": [
    "id, table = 66, 'complex_granule'\n",
    "tables = list(probabilities.keys())\n",
    "raster_width = raster_height = 3454\n",
    "\n",
    "query = f\"SELECT id, shape FROM {table} WHERE id={id}\"\n",
    "gdf = gpd.read_postgis(query, engine, geom_col=\"shape\")\n",
    "print('id:', gdf.iloc[0].id)\n",
    "gdf = gdf.to_crs(\"EPSG:4326\")\n",
    "minx, miny, maxx, maxy = gdf.geometry.total_bounds\n",
    "polygon = gdf.geometry.iloc[0]\n",
    "transform = from_bounds(0, 0, raster_width, raster_height, raster_width, raster_height)\n",
    "raster = features.rasterize(\n",
    "    [(polygon, 1)],\n",
    "    out_shape=(raster_height, raster_width),\n",
    "    transform=transform,\n",
    "    fill=0,\n",
    "    dtype='uint8'\n",
    ")\n",
    "plt.figure(figsize=(5, 5))\n",
    "plt.imshow(raster, cmap=\"gray\")\n",
    "plt.show()\n",
    "frames[0][raster==1] = 8"
   ]
  },
  {
   "cell_type": "code",
   "execution_count": 27,
   "metadata": {},
   "outputs": [
    {
     "name": "stdout",
     "output_type": "stream",
     "text": [
      "SELECT id, shape FROM complex_granule WHERE id=31952\n",
      "SELECT id, shape FROM complex_granule WHERE id=23305\n",
      "SELECT id, shape FROM complex_granule WHERE id=34191\n",
      "SELECT id, shape FROM complex_granule WHERE id=29248\n",
      "SELECT id, shape FROM complex_granule WHERE id=10516\n",
      "SELECT id, shape FROM complex_granule WHERE id=22424\n",
      "SELECT id, shape FROM complex_granule WHERE id=26700\n",
      "SELECT id, shape FROM complex_granule WHERE id=18633\n",
      "SELECT id, shape FROM complex_granule WHERE id=21841\n",
      "SELECT id, shape FROM complex_granule WHERE id=11987\n",
      "SELECT id, shape FROM complex_granule WHERE id=27803\n",
      "SELECT id, shape FROM complex_granule WHERE id=17328\n",
      "SELECT id, shape FROM complex_granule WHERE id=18987\n",
      "SELECT id, shape FROM complex_granule WHERE id=2608\n",
      "SELECT id, shape FROM complex_granule WHERE id=9308\n",
      "SELECT id, shape FROM complex_granule WHERE id=35449\n",
      "SELECT id, shape FROM complex_granule WHERE id=21448\n",
      "SELECT id, shape FROM complex_granule WHERE id=30518\n",
      "SELECT id, shape FROM complex_granule WHERE id=15980\n",
      "SELECT id, shape FROM complex_granule WHERE id=5443\n",
      "SELECT id, shape FROM complex_granule WHERE id=24735\n",
      "SELECT id, shape FROM complex_granule WHERE id=23619\n",
      "SELECT id, shape FROM complex_granule WHERE id=8719\n",
      "SELECT id, shape FROM complex_granule WHERE id=31034\n",
      "SELECT id, shape FROM complex_granule WHERE id=28844\n",
      "SELECT id, shape FROM complex_granule WHERE id=937\n",
      "SELECT id, shape FROM complex_granule WHERE id=34875\n",
      "SELECT id, shape FROM complex_granule WHERE id=27206\n",
      "SELECT id, shape FROM complex_granule WHERE id=33765\n",
      "SELECT id, shape FROM complex_granule WHERE id=4874\n",
      "SELECT id, shape FROM complex_granule WHERE id=20717\n",
      "SELECT id, shape FROM complex_granule WHERE id=20525\n",
      "SELECT id, shape FROM complex_granule WHERE id=20888\n",
      "SELECT id, shape FROM complex_granule WHERE id=16154\n",
      "SELECT id, shape FROM complex_granule WHERE id=22524\n",
      "SELECT id, shape FROM complex_granule WHERE id=8566\n"
     ]
    }
   ],
   "source": [
    "for i in range(199):\n",
    "    time = start_time + interval * (i + 1)\n",
    "    query = (\n",
    "        real_query.replace(\"thisid\", str(id))\n",
    "        .replace(\"timestamp\", str(time))\n",
    "        .replace(\"g1\", table)\n",
    "    )\n",
    "    new_tables = deepcopy(tables)\n",
    "    new_tables.remove(table)\n",
    "    for j in range(2, 5):\n",
    "        query = query.replace(f\"g{j}\", new_tables[j - 2])\n",
    "    results = conn.execute(text(query))\n",
    "    rows = results.fetchall()\n",
    "    if len(rows) == 0:\n",
    "        continue\n",
    "    scores = np.array([r[1] * probabilities[table][r[2]] for r in rows])\n",
    "    id, _, table = rows[np.argmax(scores)]\n",
    "    query = f\"SELECT id, shape FROM {table} WHERE id={id}\"\n",
    "    print(query)\n",
    "    gdf = gpd.read_postgis(query, engine, geom_col=\"shape\")\n",
    "    gdf = gdf.to_crs(\"EPSG:4326\")\n",
    "    minx, miny, maxx, maxy = gdf.geometry.total_bounds\n",
    "    polygon = gdf.geometry.iloc[0]\n",
    "    transform = from_bounds(\n",
    "        0, 0, raster_width, raster_height, raster_width, raster_height\n",
    "    )\n",
    "    raster = features.rasterize(\n",
    "        [(polygon, 1)],  # Polygon with a value of 1\n",
    "        out_shape=(raster_height, raster_width),\n",
    "        transform=transform,\n",
    "        fill=0,  # Background value\n",
    "        dtype=\"uint8\",\n",
    "    )\n",
    "    frames[i+1][raster==1] = 8"
   ]
  },
  {
   "cell_type": "code",
   "execution_count": 30,
   "metadata": {},
   "outputs": [
    {
     "name": "stderr",
     "output_type": "stream",
     "text": [
      "100%|██████████| 200/200 [00:15<00:00, 13.01it/s]\n"
     ]
    }
   ],
   "source": [
    "video_frames = []\n",
    "for frame in tqdm(frames):\n",
    "    if np.all(frame==0):\n",
    "        continue\n",
    "    fig, ax = plt.subplots(1, figsize=(10, 10))\n",
    "    ax.axis(\"off\")\n",
    "    fig.patch.set_visible(False)\n",
    "    ax.imshow(frame, cmap=\"jet_r\")\n",
    "    buffer = BytesIO()\n",
    "    plt.savefig(buffer, format=\"png\", bbox_inches=\"tight\", pad_inches=0)\n",
    "    plt.close(fig)\n",
    "    video_frames.append(imageio.imread(buffer))"
   ]
  },
  {
   "cell_type": "code",
   "execution_count": 31,
   "metadata": {},
   "outputs": [
    {
     "name": "stderr",
     "output_type": "stream",
     "text": [
      "IMAGEIO FFMPEG_WRITER WARNING: input image is not divisible by macro_block_size=16, resizing from (769, 770) to (784, 784) to ensure video compatibility with most codecs and players. To prevent resizing, make your input image divisible by the macro_block_size or set the macro_block_size to 1 (risking incompatibility).\n"
     ]
    },
    {
     "name": "stdout",
     "output_type": "stream",
     "text": [
      "Video saved as out.mp4\n"
     ]
    }
   ],
   "source": [
    "output_filename = f\"out.mp4\"\n",
    "fps = 5  # Adjust frames per second as needed\n",
    "\n",
    "# Create video directly from frames in memory\n",
    "with imageio.get_writer(output_filename, fps=fps) as writer:\n",
    "    for frame in video_frames:\n",
    "        writer.append_data(frame)\n",
    "\n",
    "print(f\"Video saved as {output_filename}\")"
   ]
  },
  {
   "cell_type": "code",
   "execution_count": null,
   "metadata": {},
   "outputs": [],
   "source": []
  }
 ],
 "metadata": {
  "kernelspec": {
   "display_name": ".venv",
   "language": "python",
   "name": "python3"
  },
  "language_info": {
   "codemirror_mode": {
    "name": "ipython",
    "version": 3
   },
   "file_extension": ".py",
   "mimetype": "text/x-python",
   "name": "python",
   "nbconvert_exporter": "python",
   "pygments_lexer": "ipython3",
   "version": "3.9.6"
  }
 },
 "nbformat": 4,
 "nbformat_minor": 2
}
